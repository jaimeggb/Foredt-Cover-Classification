{
 "cells": [
  {
   "cell_type": "markdown",
   "metadata": {
    "collapsed": true,
    "pycharm": {
     "name": "#%% md\n"
    }
   },
   "source": [
    "# Notebook objective:\n",
    "- To predict the number shown on an image using a model trained on the MNIST dataset\n",
    "\n",
    "# Contents:\n",
    "1. Import packages\n",
    "2. Get data and view it\n",
    "3. Turn input data into right format for model training\n",
    "4. Get model from previous project and train model\n",
    "5. Plot performance metrics\n",
    "6. Predict 10 images"
   ]
  },
  {
   "cell_type": "markdown",
   "source": [
    "# 1. Import packages"
   ],
   "metadata": {
    "collapsed": false,
    "pycharm": {
     "name": "#%% md\n"
    }
   }
  },
  {
   "cell_type": "code",
   "execution_count": 115,
   "outputs": [
    {
     "name": "stdout",
     "output_type": "stream",
     "text": [
      "Tensorflow version is 2.7.0\n",
      "pandas version is 1.3.4\n",
      "numpy version is 1.21.4\n",
      "scipy version is 1.7.3\n",
      "PIL version is 8.4.0\n",
      "tensorflow_datasets version is 4.4.0\n"
     ]
    }
   ],
   "source": [
    "import tensorflow as tf\n",
    "print(\"Tensorflow version is\", tf.__version__)\n",
    "import pandas as pd\n",
    "print(\"pandas version is\", pd.__version__)\n",
    "import numpy as np\n",
    "print(\"numpy version is\", np.__version__)\n",
    "import scipy\n",
    "print(\"scipy version is\", scipy.__version__)\n",
    "import PIL\n",
    "print(\"PIL version is\", PIL.__version__)\n",
    "import tensorflow_datasets as tfds\n",
    "print(\"tensorflow_datasets version is\", tfds.__version__)\n",
    "\n",
    "import os\n",
    "from tensorflow import keras\n",
    "import matplotlib.pyplot\n",
    "from keras.models import load_model\n",
    "from keras.preprocessing import image\n",
    "from tensorflow.keras.preprocessing.image import ImageDataGenerator\n",
    "from tensorflow import keras"
   ],
   "metadata": {
    "collapsed": false,
    "pycharm": {
     "name": "#%%\n"
    }
   }
  },
  {
   "cell_type": "markdown",
   "source": [
    "# 2. Get data and view it"
   ],
   "metadata": {
    "collapsed": false,
    "pycharm": {
     "name": "#%% md\n"
    }
   }
  },
  {
   "cell_type": "code",
   "execution_count": 116,
   "outputs": [],
   "source": [
    "# Download data into a folder\n",
    "# Load the data\n",
    "\n",
    "# Append data/mnist.npz to the previous path to get the full path\n",
    "data_path = '/home/jaimeggbfp/PycharmProjects/TestingBaseInt/data/mnist.npz'\n",
    "\n",
    "# Get only training set\n",
    "(training_images, training_labels), (validation_images, validation_labels) = tf.keras.datasets.mnist.load_data(path=data_path)"
   ],
   "metadata": {
    "collapsed": false,
    "pycharm": {
     "name": "#%%\n"
    }
   }
  },
  {
   "cell_type": "markdown",
   "source": [
    "# Describe data\n",
    "- images of fashion items\n",
    "- training_images.shape: (60000, 28, 28); training_labels.shape: (60000,)\n",
    "- Labels are sparse categorical\n",
    "- what to do to make it training ready? ---> rescale dividing by 255. augment. put into flow()"
   ],
   "metadata": {
    "collapsed": false,
    "pycharm": {
     "name": "#%% md\n"
    }
   }
  },
  {
   "cell_type": "markdown",
   "source": [
    "# 3. Turn input data into right format for training"
   ],
   "metadata": {
    "collapsed": false,
    "pycharm": {
     "name": "#%% md\n"
    }
   }
  },
  {
   "cell_type": "code",
   "execution_count": 117,
   "outputs": [
    {
     "name": "stdout",
     "output_type": "stream",
     "text": [
      "(60000, 28, 28, 1)\n"
     ]
    }
   ],
   "source": [
    "# ValueError: ('Input data in `NumpyArrayIterator` should have rank 4. You passed an array with shape', (60000, 28, 28))\n",
    "training_images= tf.expand_dims(training_images, axis=-1); print(training_images.shape)\n",
    "validation_images= tf.expand_dims(validation_images, axis=-1)\n",
    "\n",
    "training_data = ImageDataGenerator(rescale=1/255,\n",
    "                                   rotation_range= 40,\n",
    "                                   width_shift_range= 0.2,\n",
    "                                   height_shift_range= 0.2,\n",
    "                                   shear_range= 0.2,\n",
    "                                   zoom_range=0.2,\n",
    "                                   fill_mode='nearest',\n",
    "                                   horizontal_flip=True\n",
    "                                   ).flow(x= training_images,\n",
    "                                          y= training_labels,\n",
    "                                          batch_size= 32)\n",
    "\n",
    "# Remember, validation data should not be augmented\n",
    "validation_data = ImageDataGenerator(rescale=1/255\n",
    "                                   ).flow(x= validation_images,\n",
    "                                          y= validation_labels,\n",
    "                                          batch_size= 32)"
   ],
   "metadata": {
    "collapsed": false,
    "pycharm": {
     "name": "#%%\n"
    }
   }
  },
  {
   "cell_type": "markdown",
   "source": [
    "# 4. Get model from previous project and train model"
   ],
   "metadata": {
    "collapsed": false,
    "pycharm": {
     "name": "#%% md\n"
    }
   }
  },
  {
   "cell_type": "code",
   "execution_count": 118,
   "outputs": [],
   "source": [
    "model = tf.keras.Sequential([\n",
    "    tf.keras.layers.Conv2D(64, (3,3), activation=\"relu\", input_shape=(28,28,1)),\n",
    "    tf.keras.layers.MaxPooling2D((2,2)),\n",
    "    tf.keras.layers.Conv2D(64, (3,3), activation=\"relu\"),\n",
    "    tf.keras.layers.MaxPooling2D((2,2)),\n",
    "\n",
    "    tf.keras.layers.Flatten(),\n",
    "\n",
    "    tf.keras.layers.Dense(1024, activation='relu'),\n",
    "    tf.keras.layers.Dense(10, activation='softmax'),\n",
    "])\n",
    "\n",
    "model.compile(optimizer = 'adam',\n",
    "            loss = 'sparse_categorical_crossentropy',  # use sparse when labels are integers, and use plain categorical when labels are one hot encoded\n",
    "            metrics=['acc'])"
   ],
   "metadata": {
    "collapsed": false,
    "pycharm": {
     "name": "#%%\n"
    }
   }
  },
  {
   "cell_type": "code",
   "execution_count": 119,
   "outputs": [],
   "source": [
    "class myCallback(tf.keras.callbacks.Callback):\n",
    "    def on_epoch_end(self, epoch, logs={}):\n",
    "        if logs.get('accuracy') is not None and logs.get('accuracy') > 0.995:\n",
    "            print('\\nReached 99.5% accuracy so cancelling training!')\n",
    "            self.model.stop_training = True\n",
    "\n",
    "callback = myCallback()"
   ],
   "metadata": {
    "collapsed": false,
    "pycharm": {
     "name": "#%%\n"
    }
   }
  },
  {
   "cell_type": "code",
   "execution_count": 120,
   "outputs": [
    {
     "name": "stdout",
     "output_type": "stream",
     "text": [
      "Epoch 1/15\n",
      "1875/1875 [==============================] - 24s 12ms/step - loss: 0.7637 - acc: 0.7424 - val_loss: 0.1943 - val_acc: 0.9379\n",
      "Epoch 2/15\n",
      "1875/1875 [==============================] - 23s 12ms/step - loss: 0.3457 - acc: 0.8896 - val_loss: 0.1917 - val_acc: 0.9342\n",
      "Epoch 3/15\n",
      "1875/1875 [==============================] - 23s 12ms/step - loss: 0.2735 - acc: 0.9134 - val_loss: 0.1815 - val_acc: 0.9408\n",
      "Epoch 4/15\n",
      "1875/1875 [==============================] - 23s 12ms/step - loss: 0.2313 - acc: 0.9273 - val_loss: 0.0906 - val_acc: 0.9699\n",
      "Epoch 5/15\n",
      "1875/1875 [==============================] - 23s 12ms/step - loss: 0.2127 - acc: 0.9327 - val_loss: 0.1162 - val_acc: 0.9597\n",
      "Epoch 6/15\n",
      "1875/1875 [==============================] - 23s 12ms/step - loss: 0.1917 - acc: 0.9391 - val_loss: 0.0901 - val_acc: 0.9706\n",
      "Epoch 7/15\n",
      "1875/1875 [==============================] - 23s 12ms/step - loss: 0.1811 - acc: 0.9425 - val_loss: 0.1295 - val_acc: 0.9553\n",
      "Epoch 8/15\n",
      "1875/1875 [==============================] - 23s 12ms/step - loss: 0.1716 - acc: 0.9462 - val_loss: 0.0914 - val_acc: 0.9689\n",
      "Epoch 9/15\n",
      "1875/1875 [==============================] - 23s 12ms/step - loss: 0.1632 - acc: 0.9480 - val_loss: 0.0681 - val_acc: 0.9778\n",
      "Epoch 10/15\n",
      "1875/1875 [==============================] - 23s 12ms/step - loss: 0.1595 - acc: 0.9505 - val_loss: 0.0734 - val_acc: 0.9750\n",
      "Epoch 11/15\n",
      "1875/1875 [==============================] - 23s 12ms/step - loss: 0.1535 - acc: 0.9510 - val_loss: 0.0916 - val_acc: 0.9686\n",
      "Epoch 12/15\n",
      "1875/1875 [==============================] - 23s 12ms/step - loss: 0.1465 - acc: 0.9542 - val_loss: 0.0756 - val_acc: 0.9736\n",
      "Epoch 13/15\n",
      "1875/1875 [==============================] - 23s 12ms/step - loss: 0.1463 - acc: 0.9537 - val_loss: 0.0725 - val_acc: 0.9754\n",
      "Epoch 14/15\n",
      "1875/1875 [==============================] - 23s 12ms/step - loss: 0.1424 - acc: 0.9548 - val_loss: 0.0674 - val_acc: 0.9788\n",
      "Epoch 15/15\n",
      "1875/1875 [==============================] - 23s 12ms/step - loss: 0.1381 - acc: 0.9564 - val_loss: 0.0874 - val_acc: 0.9723\n"
     ]
    }
   ],
   "source": [
    "history= model.fit(x=training_data,\n",
    "                   validation_data=validation_data,\n",
    "                   epochs= 15,\n",
    "                   verbose=1,\n",
    "                   callbacks=[callback])"
   ],
   "metadata": {
    "collapsed": false,
    "pycharm": {
     "name": "#%%\n"
    }
   }
  },
  {
   "cell_type": "markdown",
   "source": [
    "# 5. Plot performance metrics"
   ],
   "metadata": {
    "collapsed": false
   }
  },
  {
   "cell_type": "code",
   "execution_count": 121,
   "outputs": [
    {
     "data": {
      "text/plain": "<matplotlib.legend.Legend at 0x7f9faab115e0>"
     },
     "execution_count": 121,
     "metadata": {},
     "output_type": "execute_result"
    },
    {
     "data": {
      "text/plain": "<Figure size 432x288 with 1 Axes>",
      "image/png": "[encoded data removed]"
     },
     "metadata": {
      "needs_background": "light"
     },
     "output_type": "display_data"
    },
    {
     "data": {
      "text/plain": "<Figure size 432x288 with 1 Axes>",
      "image/png": "[encoded data removed]"
     },
     "metadata": {
      "needs_background": "light"
     },
     "output_type": "display_data"
    }
   ],
   "source": [
    "plt.figure()\n",
    "plt.plot(history.history['loss'], label= 'loss' )\n",
    "plt.plot(history.history['val_loss'], label= 'val_loss' )\n",
    "plt.legend()\n",
    "\n",
    "plt.figure()\n",
    "plt.plot(history.history['acc'], label= 'acc' )\n",
    "plt.plot(history.history['val_acc'], label= 'val_acc' )\n",
    "plt.legend()"
   ],
   "metadata": {
    "collapsed": false,
    "pycharm": {
     "name": "#%%\n"
    }
   }
  },
  {
   "cell_type": "markdown",
   "source": [
    "# 6. Predict 10 images"
   ],
   "metadata": {
    "collapsed": false
   }
  },
  {
   "cell_type": "code",
   "execution_count": 123,
   "outputs": [
    {
     "name": "stderr",
     "output_type": "stream",
     "text": [
      "Clipping input data to the valid range for imshow with RGB data ([0..1] for floats or [0..255] for integers).\n"
     ]
    },
    {
     "name": "stdout",
     "output_type": "stream",
     "text": [
      "(28, 28, 3)\n",
      "(28, 28, 3)\n"
     ]
    },
    {
     "data": {
      "text/plain": "<Figure size 432x288 with 1 Axes>",
      "image/png": "[encoded data removed]"
     },
     "metadata": {
      "needs_background": "light"
     },
     "output_type": "display_data"
    },
    {
     "name": "stdout",
     "output_type": "stream",
     "text": [
      "(28, 28, 1)\n"
     ]
    },
    {
     "data": {
      "text/plain": "<Figure size 432x288 with 1 Axes>",
      "image/png": "[encoded data removed]"
     },
     "metadata": {
      "needs_background": "light"
     },
     "output_type": "display_data"
    },
    {
     "name": "stdout",
     "output_type": "stream",
     "text": [
      "(1, 28, 28, 1)\n",
      "3\n",
      "3\n"
     ]
    }
   ],
   "source": [
    "image_path = '/home/jaimeggbfp/PycharmProjects/TestingBaseInt/data/number3.png'\n",
    "img_PIL = image.load_img(image_path, target_size=(28,28))\n",
    "img_arr = image.img_to_array(img_PIL); print(img_arr.shape)\n",
    "img_disp = tf.keras.utils.array_to_img(img_arr); print(img_arr.shape)\n",
    "img_res = img_arr / -255                           # REMEMBER TO RESCALE, OTHERWISE YOU'LL ALWAYS PREDICT 1s\n",
    "\n",
    "plt.imshow(img_res)\n",
    "plt.show()\n",
    "\n",
    "img_gra = tf.image.rgb_to_grayscale(img_res); print(img_gra.shape)\n",
    "plt.imshow(img_gra, cmap=\"Greys_r\")\n",
    "plt.show()\n",
    "\n",
    "img_ten = np.expand_dims(img_gra, axis=0); print(img_ten.shape)         # model wants a 4D tensor\n",
    "pred_idx = np.argmax(model(img_ten), axis=-1)[0]; print(pred_idx); print(pred_idx)"
   ],
   "metadata": {
    "collapsed": false,
    "pycharm": {
     "name": "#%%\n"
    }
   }
  }
 ],
 "metadata": {
  "kernelspec": {
   "display_name": "Python 3",
   "language": "python",
   "name": "python3"
  },
  "language_info": {
   "codemirror_mode": {
    "name": "ipython",
    "version": 2
   },
   "file_extension": ".py",
   "mimetype": "text/x-python",
   "name": "python",
   "nbconvert_exporter": "python",
   "pygments_lexer": "ipython2",
   "version": "2.7.6"
  }
 },
 "nbformat": 4,
 "nbformat_minor": 0
}